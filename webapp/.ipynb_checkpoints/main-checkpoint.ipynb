{
 "cells": [
  {
   "cell_type": "code",
   "execution_count": null,
   "metadata": {},
   "outputs": [],
   "source": [
    "!pip install streamlit -q\n",
    "!pip install tornado==5.1"
   ]
  },
  {
   "cell_type": "code",
   "execution_count": null,
   "metadata": {},
   "outputs": [],
   "source": [
    "import streamlit as st\n",
    "import pandas as pd\n",
    "import numpy as np\n",
    "import matplotlib.pyplot as plt\n",
    "import datetime"
   ]
  },
  {
   "cell_type": "code",
   "execution_count": null,
   "metadata": {},
   "outputs": [],
   "source": []
  },
  {
   "cell_type": "code",
   "execution_count": null,
   "metadata": {},
   "outputs": [],
   "source": [
    "df = pd.read_csv('NVidia_stock_history.csv')"
   ]
  },
  {
   "cell_type": "code",
   "execution_count": null,
   "metadata": {},
   "outputs": [],
   "source": [
    "# Delete rows where date is before 1/1/2019.\n",
    "df['Date'] = pd.to_datetime(df['Date'])\n",
    "df = df[~(df['Date'] < '2019-01-01')]\n",
    "df.head()"
   ]
  },
  {
   "cell_type": "code",
   "execution_count": null,
   "metadata": {},
   "outputs": [],
   "source": [
    "# Reset the index to the Date column. \n",
    "df['Date'] = pd.to_datetime(df['Date'],format='%Y/%m/%d')\n",
    "df.reset_index(drop=True,inplace=True)\n",
    "df.set_index('Date',inplace=True)"
   ]
  },
  {
   "cell_type": "code",
   "execution_count": null,
   "metadata": {},
   "outputs": [],
   "source": [
    "# Specify the title and logo for the web page.\n",
    "st.set_page_config(page_title='Nvidia Stock Prices', \n",
    "page_icon='https://cdn.freebiesupply.com/logos/thumbs/1x/nvidia-logo.png', layout=\"wide\")"
   ]
  },
  {
   "cell_type": "code",
   "execution_count": null,
   "metadata": {},
   "outputs": [],
   "source": [
    "# Add social media tags and links to the web page.\n",
    "\"\"\"\n",
    "[![Star](https://img.shields.io/badge/Medium-12100E?style=for-the-badge&logo=medium&logoColor=white)](https://medium.com/@dniggl)\n",
    "[![Follow](https://img.shields.io/badge/LinkedIn-0077B5?style=for-the-badge&logo=linkedin&logoColor=white)](https://www.linkedin.com/in/dennisniggl)\n",
    "[![Follow](https://img.shields.io/badge/Twitter-1DA1F2?style=for-the-badge&logo=twitter&logoColor=white)](https://twitter.com/DennisNiggl)\n",
    "\n",
    "# Nvidia's Stock Performance\n",
    "\n",
    "\"\"\""
   ]
  },
  {
   "cell_type": "code",
   "execution_count": null,
   "metadata": {},
   "outputs": [],
   "source": [
    "# Add a sidebar to the web page. \n",
    "st.markdown('---')\n",
    "# Sidebar Configuration\n",
    "st.sidebar.image('https://cdn.freebiesupply.com/logos/thumbs/1x/nvidia-logo.png', width=200)\n",
    "st.sidebar.markdown('# Nvidia Stock Price Analysis')\n",
    "st.sidebar.markdown('Nvidia is a global leader in artificial intelligence hardware and software.')\n",
    "st.sidebar.markdown('Stock Data from 2019 thru 2021')\n",
    "st.sidebar.markdown('You can visualise Nvidia \\'s Stock Prices Trends and Patterns over a given time span.') \n",
    "\n",
    "st.sidebar.markdown('---')\n",
    "st.sidebar.write('Developed by Dennis Niggl')\n",
    "st.sidebar.write('Contact at dniggl@cox.net')"
   ]
  },
  {
   "cell_type": "code",
   "execution_count": null,
   "metadata": {},
   "outputs": [],
   "source": [
    "# Display the Data in the App.\n",
    "st.subheader('Looking at the Data')\n",
    "st.dataframe(df.head())\n",
    "# Display statistical information on the dataset.\n",
    "st.subheader('Statistical Info about the Data')\n",
    "st.write(df.describe())"
   ]
  },
  {
   "cell_type": "code",
   "execution_count": null,
   "metadata": {},
   "outputs": [],
   "source": [
    "# Selection for a specific time frame.\n",
    "st.subheader('Select a Date Range')\n",
    "df_select = df \n",
    "\n",
    "col1, col2 = st.columns(2)\n",
    "\n",
    "with col1:\n",
    "    st.write('Select a Start Date')\n",
    "    start_date = st.date_input('Start Date',min_value= datetime.date(2019,1,2),max_value=datetime.date(2021,11,12),value=datetime.date(2019,1,2))\n",
    "\n",
    "with col2:    \n",
    "    st.write('Select an End Date')\n",
    "    end_date = st.date_input('End Date',min_value=datetime.date(1999,1,22),max_value=datetime.date(2021,11,12),value=datetime.date(2021,11,12))\n",
    "\n",
    "if(start_date != None or end_date != None):\n",
    "    if(start_date < end_date):\n",
    "        df_select = df[start_date:end_date]\n",
    "    else:\n",
    "        st.warning(\"Invalid Date Range - Re-enter Dates\")"
   ]
  },
  {
   "cell_type": "code",
   "execution_count": null,
   "metadata": {},
   "outputs": [],
   "source": [
    "# Open and Close Prices.  \n",
    "st.subheader(\"Open & Close Prices for Nvidia Stock\")\n",
    "st.markdown(\"\\n\\n\")\n",
    "st.line_chart(df_select[['Open','Close']])"
   ]
  },
  {
   "cell_type": "code",
   "execution_count": null,
   "metadata": {},
   "outputs": [],
   "source": [
    "# High and Low Prices. \n",
    "st.subheader(\"High and Low Prices for Nvidia Stock\")\n",
    "st.markdown(\"\\n\\n\")\n",
    "st.line_chart(df_select[['High', 'Low']])"
   ]
  },
  {
   "cell_type": "code",
   "execution_count": null,
   "metadata": {},
   "outputs": [],
   "source": [
    "# Volume of Stock Traded. \n",
    "st.subheader(\"Volumn Traded for Nvidia Stock\")\n",
    "st.markdown(\"\\n\\n\")\n",
    "st.bar_chart(df_select['Volume'])"
   ]
  },
  {
   "cell_type": "code",
   "execution_count": null,
   "metadata": {},
   "outputs": [],
   "source": [
    "# Moving average from 50 days to 250 days.\n",
    "st.subheader('Moving Averages of Open and Closing Stock Prices')\n",
    "movevavg_len = st.slider('Select the number of days for Moving Averages',min_value=0,max_value=250,value=50)\n",
    "moveavg_oc =  df_select[['Open','Close']].rolling(50).mean()\n",
    "st.line_chart(moveavg_oc)"
   ]
  },
  {
   "cell_type": "code",
   "execution_count": null,
   "metadata": {},
   "outputs": [],
   "source": [
    "%%writefile app.py\n",
    "# Import the libraries.\n",
    "import streamlit as st\n",
    "import pandas as pd\n",
    "import numpy as np\n",
    "import matplotlib.pyplot as plt\n",
    "import datetime\n",
    "\n",
    "# Specify title and logo for the webpage.\n",
    "st.set_page_config(page_title='Nvidia Stock Prices', \n",
    "page_icon='https://cdn.freebiesupply.com/logos/thumbs/1x/nvidia-logo.png', layout=\"wide\")\n",
    "\n",
    "# Add social media tags and links to the web page.\n",
    "\"\"\"\n",
    "[![Star](https://img.shields.io/badge/Medium-12100E?style=for-the-badge&logo=medium&logoColor=white)](https://medium.com/@dniggl)\n",
    "[![Follow](https://img.shields.io/badge/LinkedIn-0077B5?style=for-the-badge&logo=linkedin&logoColor=white)](https://www.linkedin.com/in/dennisniggl)\n",
    "[![Follow](https://img.shields.io/badge/Twitter-1DA1F2?style=for-the-badge&logo=twitter&logoColor=white)](https://twitter.com/DennisNiggl)\n",
    "\n",
    "# Nvidia's Stock Performance\n",
    "\n",
    "\"\"\"\n",
    "\n",
    "# Add a sidebar to the web page. \n",
    "st.markdown('---')\n",
    "# Sidebar Configuration\n",
    "st.sidebar.image('https://cdn.freebiesupply.com/logos/thumbs/1x/nvidia-logo.png', width=200)\n",
    "st.sidebar.markdown('# Nvidia Stock Price Analysis')\n",
    "st.sidebar.markdown('Nvidia is a global leader in artificial intelligence hardware and software.')\n",
    "st.sidebar.markdown('Stock Data from 2019 thru 2021')\n",
    "st.sidebar.markdown('You can visualise Nvidia \\'s Stock Prices Trends and Patterns over a given time span.') \n",
    "\n",
    "st.sidebar.markdown('---')\n",
    "st.sidebar.write('Developed by Dennis Niggl')\n",
    "st.sidebar.write('Contact at dniggl@cox.net')\n",
    "\n",
    "# Import the dataset into a dataframe. \n",
    "df = pd.read_csv('NVidia_stock_history.csv')\n",
    "\n",
    "# Delete rows where date is before 1/1/2019.\n",
    "df['Date'] = pd.to_datetime(df['Date'])\n",
    "df = df[~(df['Date'] < '2019-01-01')]\n",
    "\n",
    "# Reset the index to the Date column. \n",
    "df['Date'] = pd.to_datetime(df['Date'],format='%Y/%m/%d')\n",
    "df.reset_index(drop=True,inplace=True)\n",
    "df.set_index('Date',inplace=True)\n",
    "\n",
    "# Display the Data in the App.\n",
    "st.subheader('Looking at the Data')\n",
    "st.dataframe(df.head())\n",
    "\n",
    "# Display statistical information on the dataset.\n",
    "st.subheader('Statistical Info about the Data')\n",
    "st.write(df.describe())\n",
    "\n",
    "# Selection for a specific time frame.\n",
    "st.subheader('Select a Date Range')\n",
    "df_select = df\n",
    "\n",
    "col1, col2 = st.columns(2)\n",
    "\n",
    "with col1:\n",
    "    st.write('Select a Start Date')\n",
    "    start_date = st.date_input('Start Date',min_value= datetime.date(2019,1,2),max_value=datetime.date(2021,11,12),value=datetime.date(2019,1,2))\n",
    "\n",
    "with col2:    \n",
    "    st.write('Select an End Date')\n",
    "    end_date = st.date_input('End Date',min_value=datetime.date(1999,1,22),max_value=datetime.date(2021,11,12),value=datetime.date(2021,11,12))\n",
    "\n",
    "if(start_date != None or end_date != None):\n",
    "    if(start_date < end_date):\n",
    "        df_select = df[start_date:end_date]\n",
    "    else:\n",
    "        st.warning(\"Invalid Date Range - Re-enter Dates\")\n",
    "\n",
    "# Graphs and charts for selected date range.\n",
    "\n",
    "# Open & Close Prices.  \n",
    "st.subheader(\"Open & Close Prices for Nvidia Stock\")\n",
    "st.markdown(\"\\n\\n\")\n",
    "st.line_chart(df_select[['Open','Close']])\n",
    "\n",
    "# High and Low Values. \n",
    "st.subheader(\"High and Low Prices for Nvidia Stock\")\n",
    "st.markdown(\"\\n\\n\")\n",
    "st.line_chart(df_select[['High', 'Low']])\n",
    "\n",
    "# Volume of Stock Traded.\n",
    "st.subheader(\"Volumn Traded for Nvidia Stock\")\n",
    "st.markdown(\"\\n\\n\")\n",
    "st.bar_chart(df_select['Volume'])\n",
    "\n",
    "# Moving average from 50 days to 250 days.\n",
    "st.subheader('Moving Averages of Open and Closing Stock Prices')\n",
    "movevavg_len = st.slider('Select the number of days for Moving Averages',min_value=0,max_value=250,value=50)\n",
    "moveavg_oc =  df_select[['Open','Close']].rolling(50).mean()\n",
    "st.line_chart(moveavg_oc)"
   ]
  },
  {
   "cell_type": "code",
   "execution_count": null,
   "metadata": {},
   "outputs": [],
   "source": [
    "!streamlit run app.py & npx localtunnel --port 8501"
   ]
  },
  {
   "cell_type": "code",
   "execution_count": null,
   "metadata": {},
   "outputs": [],
   "source": []
  },
  {
   "cell_type": "code",
   "execution_count": null,
   "metadata": {},
   "outputs": [],
   "source": []
  }
 ],
 "metadata": {
  "kernelspec": {
   "display_name": "Python 3",
   "language": "python",
   "name": "python3"
  },
  "language_info": {
   "codemirror_mode": {
    "name": "ipython",
    "version": 3
   },
   "file_extension": ".py",
   "mimetype": "text/x-python",
   "name": "python",
   "nbconvert_exporter": "python",
   "pygments_lexer": "ipython3",
   "version": "3.10.1"
  },
  "vscode": {
   "interpreter": {
    "hash": "aee8b7b246df8f9039afb4144a1f6fd8d2ca17a180786b69acc140d282b71a49"
   }
  }
 },
 "nbformat": 4,
 "nbformat_minor": 2
}
