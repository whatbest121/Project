{
 "cells": [
  {
   "cell_type": "code",
   "execution_count": 18,
   "metadata": {},
   "outputs": [],
   "source": [
    "import pandas as pd\n",
    "import matplotlib.pyplot as plt\n",
    "import torch\n",
    "from transformers import AutoTokenizer, AutoModelForSequenceClassification\n",
    "\n",
    "# create a tokenizer object\n",
    "tokenizer = AutoTokenizer.from_pretrained(\"ProsusAI/finbert\")\n",
    "\n",
    "# fetch the pretrained model \n",
    "model = AutoModelForSequenceClassification.from_pretrained(\"ProsusAI/finbert\")\n",
    "\n",
    "# A headline to be used as input \n",
    "headline = \"Microsoft fails to hit profit expectations\"\n",
    "\n",
    "# Pre-process input phrase\n",
    "input = tokenizer(headline, padding = True, truncation = True, return_tensors='pt')\n",
    "# Run inference on the tokenized phrase\n",
    "output = model(**input)\n",
    "\n",
    "# Pass model output logits through a softmax layer.\n",
    "sentim_scores = torch.nn.functional.softmax(output.logits, dim=-1)"
   ]
  },
  {
   "cell_type": "code",
   "execution_count": 19,
   "metadata": {},
   "outputs": [],
   "source": [
    "# A headline to be used as input \n",
    "headline = \"Microsoft fails to hit profit expectations\"\n",
    "\n",
    "# Pre-process input phrase\n",
    "input = tokenizer(headline, padding = True, truncation = True, return_tensors='pt')\n",
    "# Run inference on the tokenized phrase\n",
    "output = model(**input)\n",
    "\n",
    "# Pass model output logits through a softmax layer.\n",
    "sentim_scores = torch.nn.functional.softmax(output.logits, dim=-1)"
   ]
  },
  {
   "cell_type": "code",
   "execution_count": 20,
   "metadata": {},
   "outputs": [
    {
     "data": {
      "text/plain": [
       "tensor([[0.0341, 0.9329, 0.0330]], grad_fn=<SoftmaxBackward0>)"
      ]
     },
     "execution_count": 20,
     "metadata": {},
     "output_type": "execute_result"
    }
   ],
   "source": [
    "sentim_scores"
   ]
  },
  {
   "cell_type": "code",
   "execution_count": 21,
   "metadata": {},
   "outputs": [],
   "source": [
    "def sentim_analyzer(df, tokenizer, model):\n",
    "    ''' Given a df that contains a column 'headline' with article healine texts, it runs inference on the healine with the 'model' (FinBert) \n",
    "       and inserts output sentiment features into the dataframe in the respective columns (Positive_sentim, Negative_sentim, Neutral_sentim)\n",
    "       \n",
    "        Parameters :\n",
    "          df : A dataframe that contains headlines in a column called 'headline' . \n",
    "          tokenizer(AutoTokenizer object) : A pre-processing tokenizer object from Hugging Face lib. \n",
    "          model (AutoModelForSequenceClassification object) : A hugging face transformer model.     \n",
    "          \n",
    "          returns df : The initial dataframe with the 3 sentiment features as columns for each headline'''\n",
    "    \n",
    "    for i in tqdm(df.index) :\n",
    "        try:\n",
    "            headline = df.loc[i, 'headline']\n",
    "        except:\n",
    "            return print(' \\'headline\\' column might be missing from dataframe')\n",
    "        # Pre-process input phrase\n",
    "        input = tokenizer(headline, padding = True, truncation = True, return_tensors='pt')\n",
    "        # Estimate output\n",
    "        output = model(**input)\n",
    "        # Pass model output logits through a softmax layer.\n",
    "        predictions = softmax(output.logits, dim=-1)\n",
    "        df.loc[i, 'Positive'] = predictions[0][0].tolist()\n",
    "        df.loc[i, 'Negative'] = predictions[0][1].tolist()\n",
    "        df.loc[i, 'Neutral']  = predictions[0][2].tolist()\n",
    "    # rearrange column order\n",
    "    try:\n",
    "        df = df[['date', 'stock', 'Open', 'Close', 'Volume',  'headline', 'Positive', 'Negative', 'Neutral','Price_change']]\n",
    "    except:\n",
    "        pass\n",
    "    return df\n"
   ]
  }
 ],
 "metadata": {
  "kernelspec": {
   "display_name": "Python 3.10.1 64-bit",
   "language": "python",
   "name": "python3"
  },
  "language_info": {
   "codemirror_mode": {
    "name": "ipython",
    "version": 3
   },
   "file_extension": ".py",
   "mimetype": "text/x-python",
   "name": "python",
   "nbconvert_exporter": "python",
   "pygments_lexer": "ipython3",
   "version": "3.10.1"
  },
  "orig_nbformat": 4,
  "vscode": {
   "interpreter": {
    "hash": "aee8b7b246df8f9039afb4144a1f6fd8d2ca17a180786b69acc140d282b71a49"
   }
  }
 },
 "nbformat": 4,
 "nbformat_minor": 2
}
